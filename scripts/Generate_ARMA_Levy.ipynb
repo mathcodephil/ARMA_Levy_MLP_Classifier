{
 "cells": [
  {
   "cell_type": "code",
   "execution_count": 3,
   "id": "bdb83ea9",
   "metadata": {},
   "outputs": [
    {
     "name": "stdout",
     "output_type": "stream",
     "text": [
      "CovLags = 19\n"
     ]
    }
   ],
   "source": [
    "import numpy as np\n",
    "import math as mt\n",
    "import numpy.random as rnd\n",
    "from datetime import datetime\n",
    "from statsmodels.tsa.arima_process import arma_generate_sample\n",
    "from statsmodels.tsa.stattools import acf, pacf\n",
    "from scipy.stats import levy_stable\n",
    "import os\n",
    "import json\n",
    "from itertools import product\n",
    "\n",
    "entr = 84140175472697798260575148673951316302 #rnd.SeedSequence().entropy\n",
    "rng = rnd.default_rng(entr)\n",
    "path0 = os.path.expanduser('~')+'/Python Scripts/ARMA_NN/'\n",
    "SaveFileName_raw = path0 +'raw.json'\n",
    "SaveFileName_acf = path0 +'acf.json'\n",
    "SaveFileName_pacf = path0 +'pacf.json'\n",
    "\n",
    "MaxP = 3\n",
    "MaxQ = 3\n",
    "\n",
    "TimePoints = 80\n",
    "CovLags = int(min(10 * np.log10(TimePoints), TimePoints - 1))\n",
    "print(f\"CovLags = {CovLags}\")\n",
    "\n",
    "alpha_s = [0.25, 1]\n",
    "phi_s   = [-0.9+0.4*i for i in range(3)]+[0.1+0.4*i for i in range(3)]\n",
    "theta_s = [0.1+0.4*i for i in range(3)]\n",
    "RepRepeats = 1\n"
   ]
  },
  {
   "cell_type": "code",
   "execution_count": 4,
   "id": "073e7fac",
   "metadata": {},
   "outputs": [],
   "source": [
    "def SaveJ(filename, adata):    \n",
    "    def np_encoder(object):# json fails to process some(?) numpy types, namely, numpy.Int64\n",
    "        if isinstance(object, np.generic):\n",
    "            return object.item()\n",
    "    with open(filename, 'w') as f:\n",
    "        json.dump(adata, f, indent=2, default=np_encoder)# list of lists - nested data => readability! : indent=2\n",
    "\n",
    "def LoadJ(filename):\n",
    "    with open(filename, 'r') as f:\n",
    "        adata = json.load(f)\n",
    "    return adata\n",
    "\n",
    "def get_coeffs_from_quantity(base_coeffs, quantity):\n",
    "    delta=(base_coeffs[-1]-base_coeffs[0])/(quantity-1)\n",
    "    return [base_coeffs[0]+delta*_ for _ in range(quantity)]  \n",
    "\n",
    "def get_N_from_a_p(a,p):\n",
    "    return a*(a+1)**(p-1)\n",
    "\n",
    "def get_coeffs(base_coeffs, MaxOrder, Order):\n",
    "    aMaxN = get_N_from_a_p(len(base_coeffs),MaxOrder)\n",
    "    if Order==1:\n",
    "        cc = [get_coeffs_from_quantity( base_coeffs, aMaxN )]\n",
    "    else:\n",
    "        c0 = base_coeffs if MaxOrder==Order else get_coeffs_from_quantity( base_coeffs, mt.floor(len(base_coeffs)**(MaxOrder/Order)) )\n",
    "        cc = [c0]\n",
    "        c = [list(set(c0+[0]))]\n",
    "        for _ in range(1,Order-1):            \n",
    "            cc = c + cc\n",
    "        c1 = get_coeffs_from_quantity(base_coeffs, max(aMaxN//get_N_from_a_p(len(c0),Order-1) -1,1))\n",
    "        cc = [list(set(c1+[0]))] + cc\n",
    "    return cc\n",
    "\n",
    "def get_N(a,p,b,q):\n",
    "    return get_N_from_a_p(a,p)*get_N_from_a_p(b,q)\n",
    "\n",
    "def single_row(idx, aars,amas, aalpha, adata):\n",
    "    return [idx, list(aars),list(amas),aalpha,list(adata)]\n",
    "\n",
    "def repeat_agsl(idx_from, ar_quot, ma_quot, aTimePoints, alpha4levy, aCovLags, reps, toRaw, toACF, toPACF):\n",
    "    tR = []\n",
    "    tA = []\n",
    "    tP = []\n",
    "    ar_quot = np.r_[1, -ar_quot]\n",
    "    ma_quot = np.r_[1, ma_quot]\n",
    "    for i in range(idx_from+1, idx_from+reps+1):\n",
    "        y = arma_generate_sample(ar_quot, ma_quot, nsample=aTimePoints, distrvs=lambda size: levy_stable.rvs(alpha4levy, 0, size=size, random_state=rng))\n",
    "        tR.append(single_row(i, ar_quot, ma_quot, alpha4levy, y))\n",
    "        tA.append(single_row(i, ar_quot, ma_quot, alpha4levy, acf(y,adjusted=False,nlags=aCovLags,qstat=False,fft=False,alpha=None,bartlett_confint=False)))\n",
    "        tP.append(single_row(i, ar_quot, ma_quot, alpha4levy, pacf(y,nlags=aCovLags,method='ywmle',alpha=None)))        \n",
    "    toRaw.extend(tR)\n",
    "    toACF.extend(tA)\n",
    "    toPACF.extend(tP)\n",
    "    return i"
   ]
  },
  {
   "cell_type": "code",
   "execution_count": 5,
   "id": "abb70809",
   "metadata": {},
   "outputs": [
    {
     "name": "stdout",
     "output_type": "stream",
     "text": [
      "Total instances: 248724\n",
      "before saves ...\n",
      "Time elapsed 0:06:12.711172\n",
      "after saves ...\n",
      "Time elapsed 0:07:21.486372\n"
     ]
    }
   ],
   "source": [
    "starttime = datetime.now()\n",
    "RawData = []\n",
    "ACF = []\n",
    "PACF = []\n",
    "global_idx = 0\n",
    "for p, q in product(list(range(1,MaxP+1)), list(range(1,MaxQ+1))):\n",
    "    ar = get_coeffs(phi_s, MaxP, p)\n",
    "    ar = product(*ar)\n",
    "    ma = get_coeffs(theta_s, MaxQ, q)\n",
    "    ma = product(*ma)\n",
    "    arma = product(alpha_s, ar, ma)\n",
    "    for alpha, ar, ma in arma:\n",
    "        if isinstance(ar, tuple):\n",
    "            ar = np.array([*ar])\n",
    "        else:\n",
    "            ar = np.array([ar])\n",
    "        if isinstance(ma, tuple):\n",
    "            ma = np.array([*ma])\n",
    "        else:\n",
    "            ma = np.array([ma])\n",
    "        global_idx = repeat_agsl(global_idx, ar, ma, TimePoints, alpha, CovLags, RepRepeats, RawData, ACF, PACF)\n",
    "#        global_idx +=RepRepeats\n",
    "print(f\"Total instances: {global_idx}\")\n",
    "print('before saves ...')\n",
    "print('Time elapsed {}'.format(datetime.now() - starttime))\n",
    "SaveJ(SaveFileName_raw,RawData)\n",
    "SaveJ(SaveFileName_acf,ACF)\n",
    "SaveJ(SaveFileName_pacf,PACF)\n",
    "print('after saves ...')\n",
    "print('Time elapsed {}'.format(datetime.now() - starttime))"
   ]
  },
  {
   "cell_type": "code",
   "execution_count": 3,
   "id": "f5033482",
   "metadata": {},
   "outputs": [],
   "source": []
  },
  {
   "cell_type": "code",
   "execution_count": null,
   "id": "225e2f8b",
   "metadata": {},
   "outputs": [],
   "source": []
  }
 ],
 "metadata": {
  "kernelspec": {
   "display_name": "Python 3 (ipykernel)",
   "language": "python",
   "name": "python3"
  },
  "language_info": {
   "codemirror_mode": {
    "name": "ipython",
    "version": 3
   },
   "file_extension": ".py",
   "mimetype": "text/x-python",
   "name": "python",
   "nbconvert_exporter": "python",
   "pygments_lexer": "ipython3",
   "version": "3.11.3"
  }
 },
 "nbformat": 4,
 "nbformat_minor": 5
}
